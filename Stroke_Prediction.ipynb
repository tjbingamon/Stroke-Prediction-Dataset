{
  "nbformat": 4,
  "nbformat_minor": 0,
  "metadata": {
    "colab": {
      "provenance": [],
      "authorship_tag": "ABX9TyOPselsLBpfE7jNjNA8H/8s",
      "include_colab_link": true
    },
    "kernelspec": {
      "name": "python3",
      "display_name": "Python 3"
    },
    "language_info": {
      "name": "python"
    }
  },
  "cells": [
    {
      "cell_type": "markdown",
      "metadata": {
        "id": "view-in-github",
        "colab_type": "text"
      },
      "source": [
        "<a href=\"https://colab.research.google.com/github/tjbingamon/Stroke-Prediction-Dataset/blob/main/Stroke_Prediction.ipynb\" target=\"_parent\"><img src=\"https://colab.research.google.com/assets/colab-badge.svg\" alt=\"Open In Colab\"/></a>"
      ]
    },
    {
      "cell_type": "markdown",
      "source": [
        "# Stroke Prediction \n",
        "\n",
        "1. Source of data\n",
        "\n",
        "2. Brief description of data\n",
        "\n",
        "3. What is the target?\n",
        "\n",
        "4. What does one row represent? (A person?  A business?  An event? A product?)\n",
        "\n",
        "5. Is this a classification or regression problem?\n",
        "\n",
        "6. How many features does the data have?\n",
        "\n",
        "7. How many rows are in the dataset?\n",
        "\n",
        "8. What, if any, challenges do you foresee in cleaning, exploring, or modeling this dataset?"
      ],
      "metadata": {
        "id": "-bA6SR6teW7o"
      }
    }
  ]
}