{
  "nbformat": 4,
  "nbformat_minor": 0,
  "metadata": {
    "colab": {
      "provenance": [],
      "authorship_tag": "ABX9TyOGdr/w3fYGTlls+mTl672Q",
      "include_colab_link": true
    },
    "kernelspec": {
      "name": "python3",
      "display_name": "Python 3"
    },
    "language_info": {
      "name": "python"
    }
  },
  "cells": [
    {
      "cell_type": "markdown",
      "metadata": {
        "id": "view-in-github",
        "colab_type": "text"
      },
      "source": [
        "<a href=\"https://colab.research.google.com/github/tjbingamon/Stroke-Prediction-Dataset/blob/main/Stroke_Prediction.ipynb\" target=\"_parent\"><img src=\"https://colab.research.google.com/assets/colab-badge.svg\" alt=\"Open In Colab\"/></a>"
      ]
    },
    {
      "cell_type": "markdown",
      "source": [
        "# Stroke Prediction \n",
        "\n",
        "1. Source of data\n",
        "\n",
        "2. Brief description of data\n",
        "\n",
        "3. What is the target?\n",
        "\n",
        "4. What does one row represent? (A person?  A business?  An event? A product?)\n",
        "\n",
        "5. Is this a classification or regression problem?\n",
        "\n",
        "6. How many features does the data have?\n",
        "\n",
        "7. How many rows are in the dataset?\n",
        "\n",
        "8. What, if any, challenges do you foresee in cleaning, exploring, or modeling this dataset?"
      ],
      "metadata": {
        "id": "-bA6SR6teW7o"
      }
    },
    {
      "cell_type": "markdown",
      "source": [
        "#1. Source of data\n",
        "\n",
        "[source link](https://www.kaggle.com/datasets/fedesoriano/stroke-prediction-dataset)"
      ],
      "metadata": {
        "id": "dAXvhBSsI2q_"
      }
    },
    {
      "cell_type": "markdown",
      "source": [
        "#2. Brief description of data\n",
        "\n",
        "- According to the World Health Organization (WHO) stroke is the 2nd leading cause of death globally, responsible for approximately 11% of total deaths.\n"
      ],
      "metadata": {
        "id": "jqfUqqC9JDv2"
      }
    },
    {
      "cell_type": "markdown",
      "source": [
        "#3. What is the target?\n",
        "\n",
        "- This dataset is used to predict whether a patient is likely to get stroke based on the input parameters like gender, age, various diseases, and smoking status."
      ],
      "metadata": {
        "id": "omoAwGQ-JTJS"
      }
    },
    {
      "cell_type": "markdown",
      "source": [
        "#4. What does one row represent? (A person?  A business?  An event? A product?)\n",
        "\n",
        "- a patient\n"
      ],
      "metadata": {
        "id": "FeqxQJ40JbxB"
      }
    },
    {
      "cell_type": "markdown",
      "source": [
        "#5. Is this a classification or regression problem?\n",
        "\n",
        "- classification problem"
      ],
      "metadata": {
        "id": "GtIgiWenJh19"
      }
    },
    {
      "cell_type": "markdown",
      "source": [
        "# 6. How many features does the data have?\n",
        "\n",
        "- 12 features"
      ],
      "metadata": {
        "id": "GAK4AJK1JppT"
      }
    },
    {
      "cell_type": "markdown",
      "source": [
        "# 7. How many rows are in the dataset?\n",
        "\n",
        "- 5110 rows"
      ],
      "metadata": {
        "id": "MMZtEL39KI9k"
      }
    },
    {
      "cell_type": "markdown",
      "source": [
        "#8. What, if any, challenges do you foresee in cleaning, exploring, or modeling this dataset?\n",
        "\n",
        "- I believe there may be some outliers among the data. Will have to check each column to see if there are any misspellings as well. \n"
      ],
      "metadata": {
        "id": "APC8NgCQKQFs"
      }
    }
  ]
}